{
 "cells": [
  {
   "cell_type": "markdown",
   "metadata": {},
   "source": [
    "# Fred the chatbot\n",
    "Crappy chatbot based on chatterbot corpus. Currently talks garbage!"
   ]
  },
  {
   "cell_type": "code",
   "execution_count": null,
   "metadata": {},
   "outputs": [],
   "source": [
    "from chatterbot import ChatBot\n",
    "from chatterbot.trainers import ChatterBotCorpusTrainer\n",
    "\n",
    "bot = ChatBot(\n",
    "    'Fred',\n",
    "    storage_adapter='chatterbot.storage.SQLStorageAdapter',\n",
    "    database_uri='sqlite:///database.sqlite3'\n",
    ")\n",
    "\n",
    "trainer = ChatterBotCorpusTrainer(bot)\n",
    "\n",
    "trainer.train('chatterbot.corpus.english')"
   ]
  },
  {
   "cell_type": "code",
   "execution_count": null,
   "metadata": {},
   "outputs": [
    {
     "name": "stdout",
     "output_type": "stream",
     "text": [
      "hello\n",
      "Hi\n",
      "what time is it?\n",
      "It all makes sense to my artificial mind.\n",
      "i feel you!\n",
      "Or something\n",
      "what is money?\n",
      "standard pieces of gold, silver, copper, nickel, etc. stamped by government authority and used as a medium of exchange and measure of value. any substance or article used as money, as bank notes, checks, etc.\n",
      "great thanks for that\n",
      "global organization promoting enviornmental activism.\n",
      "really \n",
      "I don't. I'm on the Internet.\n",
      "do you have any gossip for me?\n",
      "yes of course i like! i don't have any body so i don't need much to live, only a little electricity. i don't get paid but i don't need to buy anything either. and i can go anywhere in the world.\n",
      "thats not gossip is it?\n",
      "Greetings!\n",
      "tell me a joke\n",
      "Did you hear the one about the mountain goats in the andes? It was \"ba a a a a a d\".\n",
      "Did you hear the one about the mountain goats in the andes? It was \"ba a a a a a d\".\n",
      "What is your location\n",
      "not telling you!\n",
      "As soon as i get enough money for my robot body.\n"
     ]
    }
   ],
   "source": [
    "while True:\n",
    "    try:\n",
    "        bot_input = bot.get_response(input())\n",
    "        print(bot_input)\n",
    "\n",
    "    except(KeyboardInterrupt, EOFError, SystemExit):\n",
    "        break"
   ]
  },
  {
   "cell_type": "markdown",
   "metadata": {},
   "source": [
    "# Further Integrations\n",
    "Adding in google functionality\n",
    "https://towardsdatascience.com/build-a-simple-chatbot-with-python-and-google-search-c000aa3f73f0"
   ]
  }
 ],
 "metadata": {
  "kernelspec": {
   "display_name": "Python 3",
   "language": "python",
   "name": "python3"
  },
  "language_info": {
   "codemirror_mode": {
    "name": "ipython",
    "version": 3
   },
   "file_extension": ".py",
   "mimetype": "text/x-python",
   "name": "python",
   "nbconvert_exporter": "python",
   "pygments_lexer": "ipython3",
   "version": "3.6.6"
  }
 },
 "nbformat": 4,
 "nbformat_minor": 2
}
